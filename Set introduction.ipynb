{
 "cells": [
  {
   "cell_type": "markdown",
   "id": "b82aaccc-c3db-433f-a0cd-9489ccdee005",
   "metadata": {},
   "source": [
    "# Set introduction and its functions \n",
    "1) Unordered & Unindexed collection of items.\n",
    "2) Set elements are unique. Duplicate elements and nested type variables are not allowed.\n",
    "3) Set elements are immutable (cannot be changed).\n",
    "4) Set itself is mutable. We can add or remove items from it.\n",
    "- add()\n",
    "- clear()\n",
    "- copy()\n",
    "- remove()\n",
    "- discard()\n",
    "- pop()\n",
    "- difference()\n",
    "- difference_update()\n",
    "- intersection()\n",
    "- intersection_update()\n",
    "- isdisjoint()\n",
    "- issubset()\n",
    "- issuperset()\n",
    "- symmetric_difference()\n",
    "- symmetric_difference_update()\n",
    "- update()"
   ]
  },
  {
   "cell_type": "code",
   "execution_count": 1,
   "id": "8d7850d4-a826-41b8-aab0-8fe651180320",
   "metadata": {},
   "outputs": [
    {
     "data": {
      "text/plain": [
       "{}"
      ]
     },
     "execution_count": 1,
     "metadata": {},
     "output_type": "execute_result"
    }
   ],
   "source": [
    "s={} #creating set\n",
    "s"
   ]
  },
  {
   "cell_type": "code",
   "execution_count": 2,
   "id": "359a9004-f703-4294-bb20-02e52dd67fea",
   "metadata": {},
   "outputs": [
    {
     "data": {
      "text/plain": [
       "dict"
      ]
     },
     "execution_count": 2,
     "metadata": {},
     "output_type": "execute_result"
    }
   ],
   "source": [
    "type(s)"
   ]
  },
  {
   "cell_type": "code",
   "execution_count": 3,
   "id": "57884160-af5e-401b-83f7-dc0a43f2f518",
   "metadata": {},
   "outputs": [
    {
     "data": {
      "text/plain": [
       "set"
      ]
     },
     "execution_count": 3,
     "metadata": {},
     "output_type": "execute_result"
    }
   ],
   "source": [
    "s1=set() #to give type \n",
    "type(s1)"
   ]
  },
  {
   "cell_type": "code",
   "execution_count": 4,
   "id": "072631ae-bfc1-4ebe-845e-da0d29291888",
   "metadata": {},
   "outputs": [
    {
     "data": {
      "text/plain": [
       "{3, 20, 45, 100}"
      ]
     },
     "execution_count": 4,
     "metadata": {},
     "output_type": "execute_result"
    }
   ],
   "source": [
    "s2={20,100,3,45}\n",
    "s2 #typing s2 in an interactive Python shell (like IDLE or a Jupyter notebook), \n",
    "   #it might show the elements in an order that is based on how Python internally represents the set at that moment"
   ]
  },
  {
   "cell_type": "code",
   "execution_count": 5,
   "id": "262ee028-8749-423e-bb06-2c08328a66aa",
   "metadata": {},
   "outputs": [
    {
     "name": "stdout",
     "output_type": "stream",
     "text": [
      "{45, 3, 100, 20}\n"
     ]
    }
   ],
   "source": [
    "print(s2)"
   ]
  },
  {
   "cell_type": "code",
   "execution_count": 6,
   "id": "51e3348c-2ddd-4718-a822-609ec71bf1b9",
   "metadata": {},
   "outputs": [
    {
     "data": {
      "text/plain": [
       "{'c', 'd', 'l', 'o', 'z'}"
      ]
     },
     "execution_count": 6,
     "metadata": {},
     "output_type": "execute_result"
    }
   ],
   "source": [
    "s3={'z','l','c','d','o'}\n",
    "s3"
   ]
  },
  {
   "cell_type": "code",
   "execution_count": 7,
   "id": "cbcf0aaa-d53d-4972-bde0-8a5a79f5c27f",
   "metadata": {},
   "outputs": [
    {
     "ename": "TypeError",
     "evalue": "unhashable type: 'list'",
     "output_type": "error",
     "traceback": [
      "\u001b[1;31m---------------------------------------------------------------------------\u001b[0m",
      "\u001b[1;31mTypeError\u001b[0m                                 Traceback (most recent call last)",
      "Cell \u001b[1;32mIn[7], line 1\u001b[0m\n\u001b[1;32m----> 1\u001b[0m s4\u001b[38;5;241m=\u001b[39m{\u001b[38;5;241m1\u001b[39m,\u001b[38;5;241m2.3\u001b[39m,\u001b[38;5;124m'\u001b[39m\u001b[38;5;124mdheeraj\u001b[39m\u001b[38;5;124m'\u001b[39m,\u001b[38;5;241m1\u001b[39m\u001b[38;5;241m+\u001b[39m\u001b[38;5;241m2\u001b[39mj,[\u001b[38;5;241m1\u001b[39m,\u001b[38;5;241m2\u001b[39m,\u001b[38;5;241m3\u001b[39m],(\u001b[38;5;241m4\u001b[39m,\u001b[38;5;241m5\u001b[39m,\u001b[38;5;241m6\u001b[39m),\u001b[38;5;28;01mTrue\u001b[39;00m} \u001b[38;5;66;03m#dosn't allows nested types\u001b[39;00m\n\u001b[0;32m      2\u001b[0m s4\n",
      "\u001b[1;31mTypeError\u001b[0m: unhashable type: 'list'"
     ]
    }
   ],
   "source": [
    "s4={1,2.3,'dheeraj',1+2j,[1,2,3],(4,5,6),True} #dosn't allows nested types\n",
    "s4"
   ]
  },
  {
   "cell_type": "code",
   "execution_count": 8,
   "id": "b3aa34d1-2967-42a1-80ad-30e4985b1799",
   "metadata": {},
   "outputs": [
    {
     "data": {
      "text/plain": [
       "{(1+2j), 2, 3.4, False, 'dheeraj'}"
      ]
     },
     "execution_count": 8,
     "metadata": {},
     "output_type": "execute_result"
    }
   ],
   "source": [
    "s5={2,3.4,'dheeraj',1+2j,False}\n",
    "s5"
   ]
  },
  {
   "cell_type": "code",
   "execution_count": 9,
   "id": "4cfbf6b4-ecd0-4849-97b3-ef9bd758124e",
   "metadata": {},
   "outputs": [
    {
     "name": "stdout",
     "output_type": "stream",
     "text": [
      "set()\n",
      "{45, 3, 100, 20}\n",
      "{'z', 'd', 'o', 'c', 'l'}\n",
      "{False, 2, 3.4, (1+2j), 'dheeraj'}\n"
     ]
    }
   ],
   "source": [
    "print(s1)\n",
    "print(s2)\n",
    "print(s3)\n",
    "print(s5)"
   ]
  },
  {
   "cell_type": "code",
   "execution_count": 10,
   "id": "7eb4f8e2-27e7-4cf8-a2ec-e09ec7acc721",
   "metadata": {},
   "outputs": [
    {
     "data": {
      "text/plain": [
       "{3, 20, 45, 100}"
      ]
     },
     "execution_count": 10,
     "metadata": {},
     "output_type": "execute_result"
    }
   ],
   "source": [
    "s2"
   ]
  },
  {
   "cell_type": "code",
   "execution_count": 11,
   "id": "99bc084d-82bf-4c08-913d-638fc96ba39a",
   "metadata": {},
   "outputs": [],
   "source": [
    "s2.add(30) #adding value in ascending order"
   ]
  },
  {
   "cell_type": "code",
   "execution_count": 12,
   "id": "71078529-d489-4979-9b40-7e89bbc96a96",
   "metadata": {},
   "outputs": [
    {
     "data": {
      "text/plain": [
       "{3, 20, 30, 45, 100}"
      ]
     },
     "execution_count": 12,
     "metadata": {},
     "output_type": "execute_result"
    }
   ],
   "source": [
    "s2"
   ]
  },
  {
   "cell_type": "code",
   "execution_count": 13,
   "id": "873d01a8-0be4-448f-ba23-b336743706c3",
   "metadata": {},
   "outputs": [],
   "source": [
    "s2.add(200)"
   ]
  },
  {
   "cell_type": "code",
   "execution_count": 14,
   "id": "faa8dd29-7090-4ec1-9dd2-d6a63b54a9fe",
   "metadata": {},
   "outputs": [
    {
     "data": {
      "text/plain": [
       "{3, 20, 30, 45, 100, 200}"
      ]
     },
     "execution_count": 14,
     "metadata": {},
     "output_type": "execute_result"
    }
   ],
   "source": [
    "s2"
   ]
  },
  {
   "cell_type": "code",
   "execution_count": 15,
   "id": "f41a41f0-8d82-42b9-ab3d-1ebd2daf99f6",
   "metadata": {},
   "outputs": [
    {
     "ename": "TypeError",
     "evalue": "'set' object is not subscriptable",
     "output_type": "error",
     "traceback": [
      "\u001b[1;31m---------------------------------------------------------------------------\u001b[0m",
      "\u001b[1;31mTypeError\u001b[0m                                 Traceback (most recent call last)",
      "Cell \u001b[1;32mIn[15], line 1\u001b[0m\n\u001b[1;32m----> 1\u001b[0m s2[:]\n",
      "\u001b[1;31mTypeError\u001b[0m: 'set' object is not subscriptable"
     ]
    }
   ],
   "source": [
    "s2[:] #indexing and slicing not allowed in set"
   ]
  },
  {
   "cell_type": "code",
   "execution_count": 16,
   "id": "7ff95c86-a2d2-419d-9f6e-85632b346df7",
   "metadata": {},
   "outputs": [
    {
     "ename": "TypeError",
     "evalue": "'set' object is not subscriptable",
     "output_type": "error",
     "traceback": [
      "\u001b[1;31m---------------------------------------------------------------------------\u001b[0m",
      "\u001b[1;31mTypeError\u001b[0m                                 Traceback (most recent call last)",
      "Cell \u001b[1;32mIn[16], line 1\u001b[0m\n\u001b[1;32m----> 1\u001b[0m s2[\u001b[38;5;241m0\u001b[39m:\u001b[38;5;241m4\u001b[39m]\n",
      "\u001b[1;31mTypeError\u001b[0m: 'set' object is not subscriptable"
     ]
    }
   ],
   "source": [
    "s2[0:4]"
   ]
  },
  {
   "cell_type": "code",
   "execution_count": 17,
   "id": "b52845b7-b2ce-4c51-8d15-bc1b113921ac",
   "metadata": {},
   "outputs": [
    {
     "data": {
      "text/plain": [
       "{(1+2j), 2, 3.4, False, 'dheeraj'}"
      ]
     },
     "execution_count": 17,
     "metadata": {},
     "output_type": "execute_result"
    }
   ],
   "source": [
    "s5"
   ]
  },
  {
   "cell_type": "code",
   "execution_count": 18,
   "id": "7d1870a6-b345-4e30-b7c8-cd90c156a147",
   "metadata": {},
   "outputs": [],
   "source": [
    "s4=s5.copy() #to copy set in another set"
   ]
  },
  {
   "cell_type": "code",
   "execution_count": 19,
   "id": "e91ab8ff-a827-4bde-b0b2-e9048ea368b9",
   "metadata": {},
   "outputs": [
    {
     "data": {
      "text/plain": [
       "{(1+2j), 2, 3.4, False, 'dheeraj'}"
      ]
     },
     "execution_count": 19,
     "metadata": {},
     "output_type": "execute_result"
    }
   ],
   "source": [
    "s4"
   ]
  },
  {
   "cell_type": "code",
   "execution_count": 20,
   "id": "29ffc37d-8a36-41d9-a1f4-85bd325a1b33",
   "metadata": {},
   "outputs": [],
   "source": [
    "s4.add(2) #duplicate values not allowed in set"
   ]
  },
  {
   "cell_type": "code",
   "execution_count": 21,
   "id": "83508dbc-9ee4-4168-bb2d-a1b98c6aca90",
   "metadata": {},
   "outputs": [
    {
     "data": {
      "text/plain": [
       "{(1+2j), 2, 3.4, False, 'dheeraj'}"
      ]
     },
     "execution_count": 21,
     "metadata": {},
     "output_type": "execute_result"
    }
   ],
   "source": [
    "s4"
   ]
  },
  {
   "cell_type": "code",
   "execution_count": 22,
   "id": "7f75e0c8-8974-42e2-ae62-72f38acd5766",
   "metadata": {},
   "outputs": [],
   "source": [
    "s5.clear() #to clear entire elements"
   ]
  },
  {
   "cell_type": "code",
   "execution_count": 23,
   "id": "90271a50-93e7-437c-8bee-59631d3942b3",
   "metadata": {},
   "outputs": [
    {
     "data": {
      "text/plain": [
       "set()"
      ]
     },
     "execution_count": 23,
     "metadata": {},
     "output_type": "execute_result"
    }
   ],
   "source": [
    "s5"
   ]
  },
  {
   "cell_type": "code",
   "execution_count": 24,
   "id": "e6c93bd6-aab2-4875-935b-fdd199a92285",
   "metadata": {},
   "outputs": [],
   "source": [
    "del s5 #to delete set completely"
   ]
  },
  {
   "cell_type": "code",
   "execution_count": 25,
   "id": "1764435e-5697-4bad-afe4-46f8db9cd25b",
   "metadata": {},
   "outputs": [
    {
     "ename": "NameError",
     "evalue": "name 's5' is not defined",
     "output_type": "error",
     "traceback": [
      "\u001b[1;31m---------------------------------------------------------------------------\u001b[0m",
      "\u001b[1;31mNameError\u001b[0m                                 Traceback (most recent call last)",
      "Cell \u001b[1;32mIn[25], line 1\u001b[0m\n\u001b[1;32m----> 1\u001b[0m s5\n",
      "\u001b[1;31mNameError\u001b[0m: name 's5' is not defined"
     ]
    }
   ],
   "source": [
    "s5"
   ]
  },
  {
   "cell_type": "code",
   "execution_count": 26,
   "id": "ae0c0266-3574-4050-b348-b601d74285bb",
   "metadata": {},
   "outputs": [
    {
     "data": {
      "text/plain": [
       "{(1+2j), 2, 3.4, False, 'dheeraj'}"
      ]
     },
     "execution_count": 26,
     "metadata": {},
     "output_type": "execute_result"
    }
   ],
   "source": [
    "s4"
   ]
  },
  {
   "cell_type": "code",
   "execution_count": 27,
   "id": "cb79dc74-5b96-4af1-a802-1ff399e57de2",
   "metadata": {},
   "outputs": [
    {
     "ename": "TypeError",
     "evalue": "set.remove() takes exactly one argument (0 given)",
     "output_type": "error",
     "traceback": [
      "\u001b[1;31m---------------------------------------------------------------------------\u001b[0m",
      "\u001b[1;31mTypeError\u001b[0m                                 Traceback (most recent call last)",
      "Cell \u001b[1;32mIn[27], line 1\u001b[0m\n\u001b[1;32m----> 1\u001b[0m s4\u001b[38;5;241m.\u001b[39mremove()\n",
      "\u001b[1;31mTypeError\u001b[0m: set.remove() takes exactly one argument (0 given)"
     ]
    }
   ],
   "source": [
    "s4.remove()"
   ]
  },
  {
   "cell_type": "code",
   "execution_count": 28,
   "id": "1838682f-6297-4667-82cc-109e8a00e5f3",
   "metadata": {},
   "outputs": [],
   "source": [
    "s4.remove((1+2j)) #to remove the specific element"
   ]
  },
  {
   "cell_type": "code",
   "execution_count": 29,
   "id": "e7c25e81-f29b-4737-8ceb-95d5e03f8649",
   "metadata": {},
   "outputs": [
    {
     "data": {
      "text/plain": [
       "{2, 3.4, False, 'dheeraj'}"
      ]
     },
     "execution_count": 29,
     "metadata": {},
     "output_type": "execute_result"
    }
   ],
   "source": [
    "s4"
   ]
  },
  {
   "cell_type": "code",
   "execution_count": 30,
   "id": "d24d5da2-636b-490a-9c6d-841dab277a99",
   "metadata": {},
   "outputs": [
    {
     "ename": "TypeError",
     "evalue": "set.remove() takes exactly one argument (2 given)",
     "output_type": "error",
     "traceback": [
      "\u001b[1;31m---------------------------------------------------------------------------\u001b[0m",
      "\u001b[1;31mTypeError\u001b[0m                                 Traceback (most recent call last)",
      "Cell \u001b[1;32mIn[30], line 1\u001b[0m\n\u001b[1;32m----> 1\u001b[0m s4\u001b[38;5;241m.\u001b[39mremove(\u001b[38;5;28;01mFalse\u001b[39;00m,\u001b[38;5;124m'\u001b[39m\u001b[38;5;124mdheeraj\u001b[39m\u001b[38;5;124m'\u001b[39m)\n",
      "\u001b[1;31mTypeError\u001b[0m: set.remove() takes exactly one argument (2 given)"
     ]
    }
   ],
   "source": [
    "s4.remove(False,'dheeraj')"
   ]
  },
  {
   "cell_type": "code",
   "execution_count": 31,
   "id": "0d8d2c61-2fc5-4432-bd32-30e08cd25fb1",
   "metadata": {},
   "outputs": [
    {
     "data": {
      "text/plain": [
       "{'c', 'd', 'l', 'o', 'z'}"
      ]
     },
     "execution_count": 31,
     "metadata": {},
     "output_type": "execute_result"
    }
   ],
   "source": [
    "s3"
   ]
  },
  {
   "cell_type": "code",
   "execution_count": 32,
   "id": "ad461448-b3e2-4346-869d-dfea1a482943",
   "metadata": {},
   "outputs": [],
   "source": [
    "s3.discard('m') #If the item to remove does not exist, discard() will NOT raise an error."
   ]
  },
  {
   "cell_type": "code",
   "execution_count": 33,
   "id": "b570ea30-436e-48cd-a4ee-11a09433bd9d",
   "metadata": {},
   "outputs": [],
   "source": [
    "s3.discard('o') #to discard specific element"
   ]
  },
  {
   "cell_type": "code",
   "execution_count": 34,
   "id": "143e6a45-066b-4793-9ca3-e536825f52a1",
   "metadata": {},
   "outputs": [
    {
     "data": {
      "text/plain": [
       "{'c', 'd', 'l', 'z'}"
      ]
     },
     "execution_count": 34,
     "metadata": {},
     "output_type": "execute_result"
    }
   ],
   "source": [
    "s3"
   ]
  },
  {
   "cell_type": "code",
   "execution_count": 35,
   "id": "e240bc64-98cd-4b3b-8999-6dd1cb490c9d",
   "metadata": {},
   "outputs": [
    {
     "data": {
      "text/plain": [
       "'z'"
      ]
     },
     "execution_count": 35,
     "metadata": {},
     "output_type": "execute_result"
    }
   ],
   "source": [
    "s3.pop() #it will remove a random item"
   ]
  },
  {
   "cell_type": "code",
   "execution_count": 36,
   "id": "e7288811-096b-4fcb-bf63-8a6e6bdda83b",
   "metadata": {},
   "outputs": [
    {
     "data": {
      "text/plain": [
       "'d'"
      ]
     },
     "execution_count": 36,
     "metadata": {},
     "output_type": "execute_result"
    }
   ],
   "source": [
    "s3.pop()"
   ]
  },
  {
   "cell_type": "code",
   "execution_count": 37,
   "id": "f15ae6b3-608f-40a5-b215-f08ca2a5fa8d",
   "metadata": {},
   "outputs": [
    {
     "data": {
      "text/plain": [
       "{'c', 'l'}"
      ]
     },
     "execution_count": 37,
     "metadata": {},
     "output_type": "execute_result"
    }
   ],
   "source": [
    "s3"
   ]
  },
  {
   "cell_type": "code",
   "execution_count": 38,
   "id": "6fd98b16-0093-4462-a668-75d340637303",
   "metadata": {},
   "outputs": [
    {
     "data": {
      "text/plain": [
       "{3, 20, 30, 45, 100, 200}"
      ]
     },
     "execution_count": 38,
     "metadata": {},
     "output_type": "execute_result"
    }
   ],
   "source": [
    "s2"
   ]
  },
  {
   "cell_type": "code",
   "execution_count": 39,
   "id": "39a00590-3ce9-418a-807d-f7cddce3a1de",
   "metadata": {},
   "outputs": [
    {
     "ename": "TypeError",
     "evalue": "set.pop() takes no arguments (1 given)",
     "output_type": "error",
     "traceback": [
      "\u001b[1;31m---------------------------------------------------------------------------\u001b[0m",
      "\u001b[1;31mTypeError\u001b[0m                                 Traceback (most recent call last)",
      "Cell \u001b[1;32mIn[39], line 1\u001b[0m\n\u001b[1;32m----> 1\u001b[0m s2\u001b[38;5;241m.\u001b[39mpop(\u001b[38;5;241m3\u001b[39m)\n",
      "\u001b[1;31mTypeError\u001b[0m: set.pop() takes no arguments (1 given)"
     ]
    }
   ],
   "source": [
    "s2.pop(3) #coz in set no slicing or indexing allowed "
   ]
  },
  {
   "cell_type": "code",
   "execution_count": 40,
   "id": "fb4bb267-96a2-4e03-928c-5800eea38b6c",
   "metadata": {},
   "outputs": [
    {
     "name": "stdout",
     "output_type": "stream",
     "text": [
      "3\n",
      "100\n",
      "200\n",
      "45\n",
      "20\n",
      "30\n"
     ]
    }
   ],
   "source": [
    "for i in s2:\n",
    "    print(i)"
   ]
  },
  {
   "cell_type": "code",
   "execution_count": 41,
   "id": "8831506c-a735-46ae-bbd2-0bdd0355097c",
   "metadata": {},
   "outputs": [
    {
     "name": "stdout",
     "output_type": "stream",
     "text": [
      "(0, 3)\n",
      "(1, 100)\n",
      "(2, 200)\n",
      "(3, 45)\n",
      "(4, 20)\n",
      "(5, 30)\n"
     ]
    }
   ],
   "source": [
    "for i in enumerate (s2):\n",
    "    print(i)"
   ]
  },
  {
   "cell_type": "code",
   "execution_count": 42,
   "id": "4c594f21-04ca-45d5-ab38-03a47564acc4",
   "metadata": {},
   "outputs": [
    {
     "data": {
      "text/plain": [
       "{3, 20, 30, 45, 100, 200}"
      ]
     },
     "execution_count": 42,
     "metadata": {},
     "output_type": "execute_result"
    }
   ],
   "source": [
    "s2"
   ]
  },
  {
   "cell_type": "code",
   "execution_count": 43,
   "id": "83250cec-bc7c-448c-af59-1b7c51483629",
   "metadata": {},
   "outputs": [
    {
     "data": {
      "text/plain": [
       "False"
      ]
     },
     "execution_count": 43,
     "metadata": {},
     "output_type": "execute_result"
    }
   ],
   "source": [
    "2 in s2 #family member"
   ]
  },
  {
   "cell_type": "code",
   "execution_count": 44,
   "id": "990b0b2b-a66f-4884-a86e-6cc11628fb3e",
   "metadata": {},
   "outputs": [
    {
     "data": {
      "text/plain": [
       "True"
      ]
     },
     "execution_count": 44,
     "metadata": {},
     "output_type": "execute_result"
    }
   ],
   "source": [
    "20 in s2"
   ]
  },
  {
   "cell_type": "code",
   "execution_count": 45,
   "id": "191c0211-9772-4f3c-ad59-8929294c887f",
   "metadata": {},
   "outputs": [
    {
     "data": {
      "text/plain": [
       "{3, 20, 30, 45, 100, 200}"
      ]
     },
     "execution_count": 45,
     "metadata": {},
     "output_type": "execute_result"
    }
   ],
   "source": [
    "s2"
   ]
  },
  {
   "cell_type": "code",
   "execution_count": 46,
   "id": "53c0df45-0f73-4ffe-9795-0a33b37db61d",
   "metadata": {},
   "outputs": [
    {
     "data": {
      "text/plain": [
       "{'c', 'l'}"
      ]
     },
     "execution_count": 46,
     "metadata": {},
     "output_type": "execute_result"
    }
   ],
   "source": [
    "s3"
   ]
  },
  {
   "cell_type": "code",
   "execution_count": 47,
   "id": "4b55386c-2c11-4749-a970-cfe2a6ec5064",
   "metadata": {},
   "outputs": [],
   "source": [
    "s2.update(s3) #To add items from another set into the current set"
   ]
  },
  {
   "cell_type": "code",
   "execution_count": 48,
   "id": "1b1e2dc4-5b2a-4c34-8d58-a2221a8afea6",
   "metadata": {},
   "outputs": [
    {
     "data": {
      "text/plain": [
       "{100, 20, 200, 3, 30, 45, 'c', 'l'}"
      ]
     },
     "execution_count": 48,
     "metadata": {},
     "output_type": "execute_result"
    }
   ],
   "source": [
    "s2"
   ]
  },
  {
   "cell_type": "code",
   "execution_count": 49,
   "id": "95ef8ed7-9d10-43d6-b789-62cc0d183f6b",
   "metadata": {},
   "outputs": [],
   "source": [
    "s6={1,2,3,4,5}\n",
    "s7={4,5,6,7,8}\n",
    "s8={8,9,10}"
   ]
  },
  {
   "cell_type": "code",
   "execution_count": 50,
   "id": "d77141fe-becb-4a1a-acf9-0284e2685612",
   "metadata": {},
   "outputs": [
    {
     "data": {
      "text/plain": [
       "{1, 2, 3, 4, 5, 6, 7, 8}"
      ]
     },
     "execution_count": 50,
     "metadata": {},
     "output_type": "execute_result"
    }
   ],
   "source": [
    "s6.union(s7) #to joins all items from both sets. also join multiple sets"
   ]
  },
  {
   "cell_type": "code",
   "execution_count": 51,
   "id": "8ba25ec7-3fb1-4b01-a6c5-bc92cc0e3239",
   "metadata": {},
   "outputs": [
    {
     "data": {
      "text/plain": [
       "{1, 2, 3, 4, 5, 6, 7, 8, 9, 10}"
      ]
     },
     "execution_count": 51,
     "metadata": {},
     "output_type": "execute_result"
    }
   ],
   "source": [
    "s6.union(s7,s8) "
   ]
  },
  {
   "cell_type": "code",
   "execution_count": 52,
   "id": "14cc1044-d4c0-4300-840d-3343f56b727c",
   "metadata": {},
   "outputs": [
    {
     "data": {
      "text/plain": [
       "{1, 2, 3, 4, 5, 6, 7, 8}"
      ]
     },
     "execution_count": 52,
     "metadata": {},
     "output_type": "execute_result"
    }
   ],
   "source": [
    "s6|s7 #union also works with this | symbol"
   ]
  },
  {
   "cell_type": "code",
   "execution_count": 53,
   "id": "d87839e6-f951-46fc-9a62-3371e21fae50",
   "metadata": {},
   "outputs": [
    {
     "data": {
      "text/plain": [
       "{1, 2, 3, 4, 5, 6, 7, 8, 9, 10}"
      ]
     },
     "execution_count": 53,
     "metadata": {},
     "output_type": "execute_result"
    }
   ],
   "source": [
    "s6|s7|s8"
   ]
  },
  {
   "cell_type": "code",
   "execution_count": 54,
   "id": "1c426f49-55d9-4da0-89a8-16a91e4fdf53",
   "metadata": {},
   "outputs": [
    {
     "name": "stdout",
     "output_type": "stream",
     "text": [
      "{1, 2, 3, 4, 5}\n",
      "{4, 5, 6, 7, 8}\n",
      "{8, 9, 10}\n"
     ]
    }
   ],
   "source": [
    "print(s6)\n",
    "print(s7)\n",
    "print(s8)"
   ]
  },
  {
   "cell_type": "code",
   "execution_count": 55,
   "id": "5613dc35-a95e-46dd-a24d-023436ddc9f5",
   "metadata": {},
   "outputs": [
    {
     "data": {
      "text/plain": [
       "{4, 5}"
      ]
     },
     "execution_count": 55,
     "metadata": {},
     "output_type": "execute_result"
    }
   ],
   "source": [
    "s6.intersection(s7) #keeps ONLY the duplicates."
   ]
  },
  {
   "cell_type": "code",
   "execution_count": 56,
   "id": "a7f8bf0a-3571-4f6d-82f8-7bfa0cb1c6dc",
   "metadata": {},
   "outputs": [
    {
     "data": {
      "text/plain": [
       "{8}"
      ]
     },
     "execution_count": 56,
     "metadata": {},
     "output_type": "execute_result"
    }
   ],
   "source": [
    "s7 & s8 #intersection also works with this & symbol"
   ]
  },
  {
   "cell_type": "code",
   "execution_count": 57,
   "id": "dc41ded0-2fa1-4e84-ad3b-2dab68bcffa5",
   "metadata": {},
   "outputs": [
    {
     "data": {
      "text/plain": [
       "{4, 5}"
      ]
     },
     "execution_count": 57,
     "metadata": {},
     "output_type": "execute_result"
    }
   ],
   "source": [
    "s6.intersection_update(s7) #removes the items that is not present in both sets or multiple sets\n",
    "s6"
   ]
  },
  {
   "cell_type": "code",
   "execution_count": 58,
   "id": "6af9b89d-0184-48b7-84b1-8d5a328ed879",
   "metadata": {},
   "outputs": [
    {
     "data": {
      "text/plain": [
       "{4, 5}"
      ]
     },
     "execution_count": 58,
     "metadata": {},
     "output_type": "execute_result"
    }
   ],
   "source": [
    "s6"
   ]
  },
  {
   "cell_type": "code",
   "execution_count": 59,
   "id": "ef401692-564c-4af4-8c6c-6427db2cddda",
   "metadata": {},
   "outputs": [
    {
     "data": {
      "text/plain": [
       "{4, 5}"
      ]
     },
     "execution_count": 59,
     "metadata": {},
     "output_type": "execute_result"
    }
   ],
   "source": [
    "s6&=s7 #intersection_update also works with this & symbol\n",
    "s6"
   ]
  },
  {
   "cell_type": "code",
   "execution_count": 60,
   "id": "0aaa8e5d-9776-43f3-bd05-73e517d8f775",
   "metadata": {},
   "outputs": [
    {
     "data": {
      "text/plain": [
       "set()"
      ]
     },
     "execution_count": 60,
     "metadata": {},
     "output_type": "execute_result"
    }
   ],
   "source": [
    "s6&=s7&s8 #Compare 3 sets, and return a set with items that is present in all 3 sets\n",
    "s6"
   ]
  },
  {
   "cell_type": "code",
   "execution_count": 61,
   "id": "301176bd-0f27-4a76-b7dc-c4fdc1a91c99",
   "metadata": {},
   "outputs": [
    {
     "name": "stdout",
     "output_type": "stream",
     "text": [
      "set()\n",
      "{4, 5, 6, 7, 8}\n",
      "{8, 9, 10}\n"
     ]
    }
   ],
   "source": [
    "print(s6)\n",
    "print(s7)\n",
    "print(s8)\n"
   ]
  },
  {
   "cell_type": "code",
   "execution_count": 64,
   "id": "ff4e51b5-95fd-4cc0-b6c6-700abc6f4519",
   "metadata": {},
   "outputs": [
    {
     "data": {
      "text/plain": [
       "{1, 2, 3, 4, 5}"
      ]
     },
     "execution_count": 64,
     "metadata": {},
     "output_type": "execute_result"
    }
   ],
   "source": [
    "s6={1,2,3,4,5}\n",
    "s6"
   ]
  },
  {
   "cell_type": "code",
   "execution_count": 65,
   "id": "bddb211c-2d75-42d1-8fbc-0c545ed7ab6b",
   "metadata": {},
   "outputs": [
    {
     "data": {
      "text/plain": [
       "{1, 2, 3}"
      ]
     },
     "execution_count": 65,
     "metadata": {},
     "output_type": "execute_result"
    }
   ],
   "source": [
    "s6.difference(s7) #to keeps the items from the first set that are not in the other set"
   ]
  },
  {
   "cell_type": "code",
   "execution_count": 66,
   "id": "e15d35a8-26bd-44bb-b23b-61a6c70e68be",
   "metadata": {},
   "outputs": [
    {
     "name": "stdout",
     "output_type": "stream",
     "text": [
      "{1, 2, 3, 4, 5}\n",
      "{4, 5, 6, 7, 8}\n",
      "{8, 9, 10}\n"
     ]
    }
   ],
   "source": [
    "print(s6)\n",
    "print(s7)\n",
    "print(s8)"
   ]
  },
  {
   "cell_type": "code",
   "execution_count": 67,
   "id": "ad804c05-fc5e-4f48-9b86-2bf1c2433221",
   "metadata": {},
   "outputs": [
    {
     "data": {
      "text/plain": [
       "{1, 2, 3, 6, 7, 8}"
      ]
     },
     "execution_count": 67,
     "metadata": {},
     "output_type": "execute_result"
    }
   ],
   "source": [
    "s6.symmetric_difference(s7) #to keeps all items EXCEPT the duplicates."
   ]
  },
  {
   "cell_type": "code",
   "execution_count": 68,
   "id": "e5b7a8df-e435-44e6-8f01-a80e0505d7e0",
   "metadata": {},
   "outputs": [
    {
     "data": {
      "text/plain": [
       "{4, 5, 6, 7, 9, 10}"
      ]
     },
     "execution_count": 68,
     "metadata": {},
     "output_type": "execute_result"
    }
   ],
   "source": [
    "s7^s8 #symmetric_differernce also works with this ^ symbol"
   ]
  },
  {
   "cell_type": "code",
   "execution_count": 69,
   "id": "53fe5d4d-d4da-4aad-8ead-62faff07d96f",
   "metadata": {},
   "outputs": [
    {
     "data": {
      "text/plain": [
       "{1, 2, 3, 4, 5, 8, 9, 10}"
      ]
     },
     "execution_count": 69,
     "metadata": {},
     "output_type": "execute_result"
    }
   ],
   "source": [
    "s6.symmetric_difference_update(s8) #Remove the items that are present in both sets, AND insert the items that is not present in both sets\n",
    "s6"
   ]
  },
  {
   "cell_type": "code",
   "execution_count": 70,
   "id": "181073f4-6236-48e1-8bfe-40fc7bd63482",
   "metadata": {},
   "outputs": [
    {
     "data": {
      "text/plain": [
       "{1, 2, 3, 6, 7, 9, 10}"
      ]
     },
     "execution_count": 70,
     "metadata": {},
     "output_type": "execute_result"
    }
   ],
   "source": [
    "s6^=s7 #symmetric_differernce_update also works with this ^= symbol\n",
    "s6"
   ]
  },
  {
   "cell_type": "code",
   "execution_count": 71,
   "id": "38c9824d-499d-466b-b144-b813965649d4",
   "metadata": {},
   "outputs": [
    {
     "name": "stdout",
     "output_type": "stream",
     "text": [
      "{1, 2, 3, 6, 7, 9, 10}\n",
      "{4, 5, 6, 7, 8}\n",
      "{8, 9, 10}\n"
     ]
    }
   ],
   "source": [
    "print(s6)\n",
    "print(s7)\n",
    "print(s8)"
   ]
  },
  {
   "cell_type": "code",
   "execution_count": 72,
   "id": "19b63363-b64b-4b2c-9571-4b1fabbdc46b",
   "metadata": {},
   "outputs": [
    {
     "data": {
      "text/plain": [
       "False"
      ]
     },
     "execution_count": 72,
     "metadata": {},
     "output_type": "execute_result"
    }
   ],
   "source": [
    "s6.issubset(s7) #True if all elements of the first set are in the second set,otherwise it returns False"
   ]
  },
  {
   "cell_type": "code",
   "execution_count": 74,
   "id": "39a2d728-f950-4f99-abf2-47b020491b8b",
   "metadata": {},
   "outputs": [
    {
     "data": {
      "text/plain": [
       "False"
      ]
     },
     "execution_count": 74,
     "metadata": {},
     "output_type": "execute_result"
    }
   ],
   "source": [
    "s7<=s6 #issubset also works with this <= symbol"
   ]
  },
  {
   "cell_type": "code",
   "execution_count": 75,
   "id": "3b6fe6e5-be37-4542-a464-39bf4f69ab7c",
   "metadata": {},
   "outputs": [
    {
     "data": {
      "text/plain": [
       "False"
      ]
     },
     "execution_count": 75,
     "metadata": {},
     "output_type": "execute_result"
    }
   ],
   "source": [
    "s7.issuperset(s6) #True if all elements of the second set are in the first set,otherwise it returns False"
   ]
  },
  {
   "cell_type": "code",
   "execution_count": 76,
   "id": "731374cb-7b55-4c0f-86a9-7a00733766d6",
   "metadata": {},
   "outputs": [
    {
     "data": {
      "text/plain": [
       "False"
      ]
     },
     "execution_count": 76,
     "metadata": {},
     "output_type": "execute_result"
    }
   ],
   "source": [
    "s6>=s7 #issubset also works with this >= symbol "
   ]
  },
  {
   "cell_type": "code",
   "execution_count": 77,
   "id": "868bb465-04c9-4cfa-b383-9e7add03326a",
   "metadata": {},
   "outputs": [
    {
     "data": {
      "text/plain": [
       "False"
      ]
     },
     "execution_count": 77,
     "metadata": {},
     "output_type": "execute_result"
    }
   ],
   "source": [
    "s6.isdisjoint(s7) #True if two sets have no common elements,otherwise it returns False"
   ]
  },
  {
   "cell_type": "code",
   "execution_count": null,
   "id": "b7c44be0-53ce-4810-9796-e8d09257bb6b",
   "metadata": {},
   "outputs": [],
   "source": []
  }
 ],
 "metadata": {
  "kernelspec": {
   "display_name": "Python 3 (ipykernel)",
   "language": "python",
   "name": "python3"
  },
  "language_info": {
   "codemirror_mode": {
    "name": "ipython",
    "version": 3
   },
   "file_extension": ".py",
   "mimetype": "text/x-python",
   "name": "python",
   "nbconvert_exporter": "python",
   "pygments_lexer": "ipython3",
   "version": "3.12.7"
  }
 },
 "nbformat": 4,
 "nbformat_minor": 5
}

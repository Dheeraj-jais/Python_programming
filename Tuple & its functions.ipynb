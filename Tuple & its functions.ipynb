{
 "cells": [
  {
   "cell_type": "markdown",
   "id": "9b9d7bd3-e248-4166-ac6a-e1d4bb615be2",
   "metadata": {},
   "source": [
    "# Tuple & its functions:-\n",
    "1.count()     \n",
    "2.index()\n"
   ]
  },
  {
   "cell_type": "code",
   "execution_count": 1,
   "id": "327ba753-2704-4bf4-afea-b5fa55dd34db",
   "metadata": {},
   "outputs": [
    {
     "data": {
      "text/plain": [
       "()"
      ]
     },
     "execution_count": 1,
     "metadata": {},
     "output_type": "execute_result"
    }
   ],
   "source": [
    "t=() #tuple starts with ()\n",
    "t"
   ]
  },
  {
   "cell_type": "code",
   "execution_count": 2,
   "id": "df578a9a-b1e8-4750-847d-4d9a1479ea72",
   "metadata": {},
   "outputs": [
    {
     "name": "stdout",
     "output_type": "stream",
     "text": [
      "<class 'tuple'>\n"
     ]
    }
   ],
   "source": [
    "print(type(t))"
   ]
  },
  {
   "cell_type": "code",
   "execution_count": 3,
   "id": "ce01a4f6-7ee0-4e47-8cf0-e69743ea7ca3",
   "metadata": {},
   "outputs": [
    {
     "data": {
      "text/plain": [
       "(10, 20, 30, 40, 40)"
      ]
     },
     "execution_count": 3,
     "metadata": {},
     "output_type": "execute_result"
    }
   ],
   "source": [
    "t1=(10,20,30,40,40)\n",
    "t1"
   ]
  },
  {
   "cell_type": "code",
   "execution_count": 4,
   "id": "15c14f65-b848-4174-9c86-045963e49eb7",
   "metadata": {},
   "outputs": [
    {
     "data": {
      "text/plain": [
       "5"
      ]
     },
     "execution_count": 4,
     "metadata": {},
     "output_type": "execute_result"
    }
   ],
   "source": [
    "len(t1)"
   ]
  },
  {
   "cell_type": "code",
   "execution_count": 5,
   "id": "9261b63a-18c5-4f84-8a8b-72b95a375fa8",
   "metadata": {},
   "outputs": [
    {
     "data": {
      "text/plain": [
       "1"
      ]
     },
     "execution_count": 5,
     "metadata": {},
     "output_type": "execute_result"
    }
   ],
   "source": [
    "t1.count(10) #to count how much specific values in the elements"
   ]
  },
  {
   "cell_type": "code",
   "execution_count": 6,
   "id": "13383bb6-7a58-4353-9dca-d62c509ad5cf",
   "metadata": {},
   "outputs": [
    {
     "data": {
      "text/plain": [
       "2"
      ]
     },
     "execution_count": 6,
     "metadata": {},
     "output_type": "execute_result"
    }
   ],
   "source": [
    "t1.count(40)"
   ]
  },
  {
   "cell_type": "code",
   "execution_count": 7,
   "id": "6f1a0460-ab47-4c8b-b510-ae3af8a8a73a",
   "metadata": {},
   "outputs": [
    {
     "data": {
      "text/plain": [
       "(10, 20, 30, 40, 40)"
      ]
     },
     "execution_count": 7,
     "metadata": {},
     "output_type": "execute_result"
    }
   ],
   "source": [
    "t1"
   ]
  },
  {
   "cell_type": "code",
   "execution_count": 8,
   "id": "eb2dc3d4-f92a-4578-bddc-995857eb497f",
   "metadata": {},
   "outputs": [
    {
     "data": {
      "text/plain": [
       "1"
      ]
     },
     "execution_count": 8,
     "metadata": {},
     "output_type": "execute_result"
    }
   ],
   "source": [
    "t1.index(20)"
   ]
  },
  {
   "cell_type": "code",
   "execution_count": 9,
   "id": "370a1fad-8bd5-4be0-9c58-447ec8ec2c10",
   "metadata": {},
   "outputs": [
    {
     "data": {
      "text/plain": [
       "(100, 3.4, 'Dheeraj', True, (1+2j), [1, 2, 3], (5, 6, 7))"
      ]
     },
     "execution_count": 9,
     "metadata": {},
     "output_type": "execute_result"
    }
   ],
   "source": [
    "t2=(100, 3.4, 'Dheeraj', True, (1+2j), [1,2,3], (5,6,7)) #multipal datatype and Nested tuple both allowed\n",
    "t2"
   ]
  },
  {
   "cell_type": "code",
   "execution_count": 10,
   "id": "0ec2b930-28f0-4c83-b863-38e61da4d33a",
   "metadata": {},
   "outputs": [
    {
     "data": {
      "text/plain": [
       "(10, 20, 30, 40, 40)"
      ]
     },
     "execution_count": 10,
     "metadata": {},
     "output_type": "execute_result"
    }
   ],
   "source": [
    "t1"
   ]
  },
  {
   "cell_type": "code",
   "execution_count": 11,
   "id": "fae59b0e-9888-4a1f-a1de-3a784a7e63a0",
   "metadata": {},
   "outputs": [
    {
     "data": {
      "text/plain": [
       "(100, 3.4, 'Dheeraj', True, (1+2j), [1, 2, 3], (5, 6, 7))"
      ]
     },
     "execution_count": 11,
     "metadata": {},
     "output_type": "execute_result"
    }
   ],
   "source": [
    "t2"
   ]
  },
  {
   "cell_type": "code",
   "execution_count": 12,
   "id": "f98acd07-f1d9-4e79-9dd5-a9f8e232a95c",
   "metadata": {},
   "outputs": [
    {
     "data": {
      "text/plain": [
       "(12345, 'abcd678', 332000, 98765)"
      ]
     },
     "execution_count": 12,
     "metadata": {},
     "output_type": "execute_result"
    }
   ],
   "source": [
    "icici=(12345,'abcd678',332000,98765)\n",
    "icici"
   ]
  },
  {
   "cell_type": "code",
   "execution_count": 13,
   "id": "74a32a36-2171-4400-a6fb-61feb14356fb",
   "metadata": {},
   "outputs": [
    {
     "ename": "TypeError",
     "evalue": "'tuple' object does not support item assignment",
     "output_type": "error",
     "traceback": [
      "\u001b[1;31m---------------------------------------------------------------------------\u001b[0m",
      "\u001b[1;31mTypeError\u001b[0m                                 Traceback (most recent call last)",
      "Cell \u001b[1;32mIn[13], line 1\u001b[0m\n\u001b[1;32m----> 1\u001b[0m icici[\u001b[38;5;241m0\u001b[39m]\u001b[38;5;241m=\u001b[39m\u001b[38;5;241m1234\u001b[39m\n",
      "\u001b[1;31mTypeError\u001b[0m: 'tuple' object does not support item assignment"
     ]
    }
   ],
   "source": [
    "icici[0]=1234 #we can't change values in tuple coz tuple is immutable\n"
   ]
  },
  {
   "cell_type": "code",
   "execution_count": 14,
   "id": "5bc8341f-37b3-4cec-a979-f8de82a176b7",
   "metadata": {},
   "outputs": [
    {
     "data": {
      "text/plain": [
       "(10, 20, 30, 40, 40)"
      ]
     },
     "execution_count": 14,
     "metadata": {},
     "output_type": "execute_result"
    }
   ],
   "source": [
    "t1"
   ]
  },
  {
   "cell_type": "code",
   "execution_count": 15,
   "id": "2844d4c9-2780-472d-9268-a3823c2ff774",
   "metadata": {},
   "outputs": [
    {
     "data": {
      "text/plain": [
       "(10, 20, 30, 40, 40, 10, 20, 30, 40, 40)"
      ]
     },
     "execution_count": 15,
     "metadata": {},
     "output_type": "execute_result"
    }
   ],
   "source": [
    "t4=t1*2 #we can print multiple tuple\n",
    "t4"
   ]
  },
  {
   "cell_type": "code",
   "execution_count": 16,
   "id": "2353c700-eccf-4a2b-bc54-65883edce610",
   "metadata": {},
   "outputs": [],
   "source": [
    "del(t4) #to delete the tuple"
   ]
  },
  {
   "cell_type": "code",
   "execution_count": 17,
   "id": "d0a5e09a-0c87-4954-b84e-70da43a65ed3",
   "metadata": {},
   "outputs": [
    {
     "ename": "NameError",
     "evalue": "name 'd4' is not defined",
     "output_type": "error",
     "traceback": [
      "\u001b[1;31m---------------------------------------------------------------------------\u001b[0m",
      "\u001b[1;31mNameError\u001b[0m                                 Traceback (most recent call last)",
      "Cell \u001b[1;32mIn[17], line 1\u001b[0m\n\u001b[1;32m----> 1\u001b[0m d4\n",
      "\u001b[1;31mNameError\u001b[0m: name 'd4' is not defined"
     ]
    }
   ],
   "source": [
    "d4"
   ]
  },
  {
   "cell_type": "code",
   "execution_count": 18,
   "id": "7d79aa6d-5e5e-4711-83ea-e975bd4f116c",
   "metadata": {},
   "outputs": [
    {
     "data": {
      "text/plain": [
       "(10, 20, 30, 40, 40)"
      ]
     },
     "execution_count": 18,
     "metadata": {},
     "output_type": "execute_result"
    }
   ],
   "source": [
    "t1[:] # indexing"
   ]
  },
  {
   "cell_type": "code",
   "execution_count": 19,
   "id": "f47d263e-ca97-4d63-ad29-45afd3c2caf6",
   "metadata": {},
   "outputs": [
    {
     "data": {
      "text/plain": [
       "(10, 20, 30)"
      ]
     },
     "execution_count": 19,
     "metadata": {},
     "output_type": "execute_result"
    }
   ],
   "source": [
    "t1[0:3]"
   ]
  },
  {
   "cell_type": "code",
   "execution_count": 20,
   "id": "59cef141-0527-4f9d-a601-cc0534da1b79",
   "metadata": {},
   "outputs": [
    {
     "data": {
      "text/plain": [
       "(40, 40, 30, 20, 10)"
      ]
     },
     "execution_count": 20,
     "metadata": {},
     "output_type": "execute_result"
    }
   ],
   "source": [
    "t1[::-1]"
   ]
  },
  {
   "cell_type": "code",
   "execution_count": 21,
   "id": "5af87fcb-dbd7-4d3c-ade3-df304079ee54",
   "metadata": {},
   "outputs": [
    {
     "data": {
      "text/plain": [
       "(10, 30, 40)"
      ]
     },
     "execution_count": 21,
     "metadata": {},
     "output_type": "execute_result"
    }
   ],
   "source": [
    "t1[0:10:2]"
   ]
  },
  {
   "cell_type": "code",
   "execution_count": 22,
   "id": "462a2713-ebbe-41f3-9b85-5ae222de3fc8",
   "metadata": {},
   "outputs": [
    {
     "data": {
      "text/plain": [
       "(10, 20, 30, 40, 40)"
      ]
     },
     "execution_count": 22,
     "metadata": {},
     "output_type": "execute_result"
    }
   ],
   "source": [
    "t1"
   ]
  },
  {
   "cell_type": "code",
   "execution_count": 23,
   "id": "d1902ded-f860-4c0d-907e-e9a7f203854d",
   "metadata": {},
   "outputs": [
    {
     "name": "stdout",
     "output_type": "stream",
     "text": [
      "10\n",
      "20\n",
      "30\n",
      "40\n",
      "40\n"
     ]
    }
   ],
   "source": [
    "for i in t1: #loop to print in a colomn\n",
    "    print(i)"
   ]
  },
  {
   "cell_type": "code",
   "execution_count": 24,
   "id": "13c56e12-f743-4def-9554-03205e8abd48",
   "metadata": {},
   "outputs": [
    {
     "name": "stdout",
     "output_type": "stream",
     "text": [
      "(0, 10)\n",
      "(1, 20)\n",
      "(2, 30)\n",
      "(3, 40)\n",
      "(4, 40)\n"
     ]
    }
   ],
   "source": [
    "for i in enumerate(t1): # print elements along with indexing\n",
    "    print(i)"
   ]
  },
  {
   "cell_type": "code",
   "execution_count": 25,
   "id": "ae887472-96c6-411b-89c4-2a8d07962e0e",
   "metadata": {},
   "outputs": [
    {
     "data": {
      "text/plain": [
       "(10, 20, 30, 40, 40)"
      ]
     },
     "execution_count": 25,
     "metadata": {},
     "output_type": "execute_result"
    }
   ],
   "source": [
    "t1"
   ]
  },
  {
   "cell_type": "code",
   "execution_count": 26,
   "id": "f6589929-1aed-4cb3-8b53-208da1f3044c",
   "metadata": {},
   "outputs": [
    {
     "data": {
      "text/plain": [
       "True"
      ]
     },
     "execution_count": 26,
     "metadata": {},
     "output_type": "execute_result"
    }
   ],
   "source": [
    "10 in t1 #family member"
   ]
  },
  {
   "cell_type": "code",
   "execution_count": 27,
   "id": "ae652a17-f8dd-426a-b9a9-ba4248660278",
   "metadata": {},
   "outputs": [
    {
     "data": {
      "text/plain": [
       "False"
      ]
     },
     "execution_count": 27,
     "metadata": {},
     "output_type": "execute_result"
    }
   ],
   "source": [
    "50 in t1"
   ]
  },
  {
   "cell_type": "code",
   "execution_count": 28,
   "id": "27980cc7-65f0-4613-8727-8a4f745569a8",
   "metadata": {},
   "outputs": [
    {
     "data": {
      "text/plain": [
       "(1, 3, 2, 5, 4, 6, 5, 7, 6, 8, 7, 9, 8)"
      ]
     },
     "execution_count": 28,
     "metadata": {},
     "output_type": "execute_result"
    }
   ],
   "source": [
    "t5=(1,3,2,5,4,6,5,7,6,8,7,9,8)\n",
    "t5"
   ]
  },
  {
   "cell_type": "code",
   "execution_count": 29,
   "id": "cb05a49c-ba12-46f3-8d15-a35c35583514",
   "metadata": {},
   "outputs": [
    {
     "data": {
      "text/plain": [
       "[1, 2, 3, 4, 5, 5, 6, 6, 7, 7, 8, 8, 9]"
      ]
     },
     "execution_count": 29,
     "metadata": {},
     "output_type": "execute_result"
    }
   ],
   "source": [
    "sorted(t5) #sorting in assending order"
   ]
  },
  {
   "cell_type": "code",
   "execution_count": null,
   "id": "9fa21d36-ca99-46af-b548-bb75bf5eb983",
   "metadata": {},
   "outputs": [],
   "source": []
  }
 ],
 "metadata": {
  "kernelspec": {
   "display_name": "Python 3 (ipykernel)",
   "language": "python",
   "name": "python3"
  },
  "language_info": {
   "codemirror_mode": {
    "name": "ipython",
    "version": 3
   },
   "file_extension": ".py",
   "mimetype": "text/x-python",
   "name": "python",
   "nbconvert_exporter": "python",
   "pygments_lexer": "ipython3",
   "version": "3.12.7"
  }
 },
 "nbformat": 4,
 "nbformat_minor": 5
}

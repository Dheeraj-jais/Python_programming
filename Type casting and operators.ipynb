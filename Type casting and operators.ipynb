{
 "cells": [
  {
   "cell_type": "markdown",
   "id": "8eec8df9-25bd-495b-b7d9-0cf0f3a37e55",
   "metadata": {},
   "source": [
    "# ALL TYPE CASTING\n",
    "1- int\n",
    "\n",
    "2- float\n",
    "\n",
    "3- complex\n",
    "\n",
    "4- bool\n",
    "\n",
    "5- str"
   ]
  },
  {
   "cell_type": "markdown",
   "id": "61225e57-4328-4bcb-92ab-eaa4eff3e217",
   "metadata": {},
   "source": [
    "                                                    1.int"
   ]
  },
  {
   "cell_type": "code",
   "execution_count": 24,
   "id": "c7a0a920-ac99-4881-a5f1-157ba25de279",
   "metadata": {},
   "outputs": [
    {
     "data": {
      "text/plain": [
       "100"
      ]
     },
     "execution_count": 24,
     "metadata": {},
     "output_type": "execute_result"
    }
   ],
   "source": [
    "int(100.7)  #float to integer"
   ]
  },
  {
   "cell_type": "code",
   "execution_count": 25,
   "id": "c8550834-792f-4af7-b190-801149f790d9",
   "metadata": {},
   "outputs": [
    {
     "data": {
      "text/plain": [
       "0"
      ]
     },
     "execution_count": 25,
     "metadata": {},
     "output_type": "execute_result"
    }
   ],
   "source": [
    "int(False)  #boolean to integer"
   ]
  },
  {
   "cell_type": "code",
   "execution_count": 26,
   "id": "652c7df4-93e1-4daf-9635-2dde45aa0b2f",
   "metadata": {},
   "outputs": [
    {
     "data": {
      "text/plain": [
       "100"
      ]
     },
     "execution_count": 26,
     "metadata": {},
     "output_type": "execute_result"
    }
   ],
   "source": [
    "int('100')  #string to integer"
   ]
  },
  {
   "cell_type": "markdown",
   "id": "e5d1a50e-0686-46c7-8ca0-ada7dc5c6ab7",
   "metadata": {},
   "source": [
    "                                                    2.float"
   ]
  },
  {
   "cell_type": "code",
   "execution_count": 7,
   "id": "efb6a794-d736-4c2b-b4de-8acf8a25c07a",
   "metadata": {},
   "outputs": [
    {
     "data": {
      "text/plain": [
       "11.0"
      ]
     },
     "execution_count": 7,
     "metadata": {},
     "output_type": "execute_result"
    }
   ],
   "source": [
    "float(11)  #integer to float"
   ]
  },
  {
   "cell_type": "code",
   "execution_count": 8,
   "id": "4527a992-48f2-4cfc-a33f-49f51075d6b2",
   "metadata": {},
   "outputs": [
    {
     "data": {
      "text/plain": [
       "1.0"
      ]
     },
     "execution_count": 8,
     "metadata": {},
     "output_type": "execute_result"
    }
   ],
   "source": [
    "float(True)  #boolean to float"
   ]
  },
  {
   "cell_type": "code",
   "execution_count": 11,
   "id": "03ee2894-54c3-4af5-933d-7cdb294a22ec",
   "metadata": {},
   "outputs": [
    {
     "data": {
      "text/plain": [
       "100.0"
      ]
     },
     "execution_count": 11,
     "metadata": {},
     "output_type": "execute_result"
    }
   ],
   "source": [
    "float('100')  #integer to float"
   ]
  },
  {
   "cell_type": "markdown",
   "id": "6ef29e93-2a57-4140-bf37-34007c4a25c6",
   "metadata": {},
   "source": [
    "                                                    3.complex"
   ]
  },
  {
   "cell_type": "code",
   "execution_count": 12,
   "id": "a46ff23f-d710-4e85-bc3f-97ab3a503e1b",
   "metadata": {},
   "outputs": [
    {
     "data": {
      "text/plain": [
       "(12+0j)"
      ]
     },
     "execution_count": 12,
     "metadata": {},
     "output_type": "execute_result"
    }
   ],
   "source": [
    "complex(12)  #integer to complex = a+bj where a is real and b is imag"
   ]
  },
  {
   "cell_type": "code",
   "execution_count": 13,
   "id": "66b1e085-ae1a-4118-8e93-61e9d5faa3d2",
   "metadata": {},
   "outputs": [
    {
     "data": {
      "text/plain": [
       "(1+0j)"
      ]
     },
     "execution_count": 13,
     "metadata": {},
     "output_type": "execute_result"
    }
   ],
   "source": [
    "complex(True) #boolean to complex"
   ]
  },
  {
   "cell_type": "code",
   "execution_count": 17,
   "id": "2f0b241f-170d-4260-bcdc-a9d8f8ca5464",
   "metadata": {},
   "outputs": [
    {
     "data": {
      "text/plain": [
       "(22+0j)"
      ]
     },
     "execution_count": 17,
     "metadata": {},
     "output_type": "execute_result"
    }
   ],
   "source": [
    "complex('22')  #string to complex"
   ]
  },
  {
   "cell_type": "code",
   "execution_count": 20,
   "id": "fa471a83-e77f-45bd-a414-0dc283f8d76d",
   "metadata": {},
   "outputs": [
    {
     "data": {
      "text/plain": [
       "(1+1j)"
      ]
     },
     "execution_count": 20,
     "metadata": {},
     "output_type": "execute_result"
    }
   ],
   "source": [
    "complex(True,True)"
   ]
  },
  {
   "cell_type": "code",
   "execution_count": 19,
   "id": "3b1fc802-af03-4477-92b7-7d6c6b50efed",
   "metadata": {},
   "outputs": [
    {
     "data": {
      "text/plain": [
       "(1.8+0j)"
      ]
     },
     "execution_count": 19,
     "metadata": {},
     "output_type": "execute_result"
    }
   ],
   "source": [
    "complex(1.8) #float to complex"
   ]
  },
  {
   "cell_type": "markdown",
   "id": "f9eb8656-4445-4af8-8313-a4527987104b",
   "metadata": {},
   "source": [
    "                                                    4.bool"
   ]
  },
  {
   "cell_type": "code",
   "execution_count": 6,
   "id": "3316ad97-4372-4711-a3fd-e1558a367b6f",
   "metadata": {},
   "outputs": [
    {
     "data": {
      "text/plain": [
       "True"
      ]
     },
     "execution_count": 6,
     "metadata": {},
     "output_type": "execute_result"
    }
   ],
   "source": [
    "bool(1)  #integer to boolean"
   ]
  },
  {
   "cell_type": "code",
   "execution_count": 11,
   "id": "e720c2c5-28ae-4bf9-9ad8-bd72b285f5d0",
   "metadata": {},
   "outputs": [
    {
     "data": {
      "text/plain": [
       "True"
      ]
     },
     "execution_count": 11,
     "metadata": {},
     "output_type": "execute_result"
    }
   ],
   "source": [
    "bool(3.3)  #float to boolean"
   ]
  },
  {
   "cell_type": "code",
   "execution_count": 18,
   "id": "f1f54e2f-a3cc-419d-a9ba-a8798f0cc299",
   "metadata": {},
   "outputs": [
    {
     "data": {
      "text/plain": [
       "True"
      ]
     },
     "execution_count": 18,
     "metadata": {},
     "output_type": "execute_result"
    }
   ],
   "source": [
    "bool('1')  #string to boolean"
   ]
  },
  {
   "cell_type": "code",
   "execution_count": 2,
   "id": "2327608b-3d20-4e6b-ace9-2a6fd9cc330c",
   "metadata": {},
   "outputs": [
    {
     "data": {
      "text/plain": [
       "False"
      ]
     },
     "execution_count": 2,
     "metadata": {},
     "output_type": "execute_result"
    }
   ],
   "source": [
    "bool(0)"
   ]
  },
  {
   "cell_type": "code",
   "execution_count": 3,
   "id": "905a36c8-1c27-4292-8605-53e5dc235095",
   "metadata": {},
   "outputs": [
    {
     "data": {
      "text/plain": [
       "True"
      ]
     },
     "execution_count": 3,
     "metadata": {},
     "output_type": "execute_result"
    }
   ],
   "source": [
    "bool(1+1j)  #complex to boolean"
   ]
  },
  {
   "cell_type": "markdown",
   "id": "71f4846e-c452-4476-9ab2-ec11fda7f33d",
   "metadata": {},
   "source": [
    "                                                    5.str"
   ]
  },
  {
   "cell_type": "code",
   "execution_count": 21,
   "id": "a3492c7a-a3c0-4075-ab7d-b012d5191393",
   "metadata": {},
   "outputs": [
    {
     "data": {
      "text/plain": [
       "'1.1'"
      ]
     },
     "execution_count": 21,
     "metadata": {},
     "output_type": "execute_result"
    }
   ],
   "source": [
    "str(1.1)  #float to string"
   ]
  },
  {
   "cell_type": "code",
   "execution_count": 22,
   "id": "0ec52fce-2106-47bd-8dc7-b08a61940edf",
   "metadata": {},
   "outputs": [
    {
     "data": {
      "text/plain": [
       "'True'"
      ]
     },
     "execution_count": 22,
     "metadata": {},
     "output_type": "execute_result"
    }
   ],
   "source": [
    "str(True)  #boolean to string"
   ]
  },
  {
   "cell_type": "code",
   "execution_count": 23,
   "id": "69435f44-5569-4b63-95c1-19d39e098421",
   "metadata": {},
   "outputs": [
    {
     "data": {
      "text/plain": [
       "'8'"
      ]
     },
     "execution_count": 23,
     "metadata": {},
     "output_type": "execute_result"
    }
   ],
   "source": [
    "str(8)  #integer to string"
   ]
  },
  {
   "cell_type": "code",
   "execution_count": 7,
   "id": "d640f264-008a-4d87-81ef-6c069987e5ce",
   "metadata": {},
   "outputs": [
    {
     "data": {
      "text/plain": [
       "'(1+1j)'"
      ]
     },
     "execution_count": 7,
     "metadata": {},
     "output_type": "execute_result"
    }
   ],
   "source": [
    "str(1+1j)  #complex to string"
   ]
  },
  {
   "cell_type": "code",
   "execution_count": null,
   "id": "508c3615-679d-45d8-907f-3ca6fd2501a4",
   "metadata": {},
   "outputs": [],
   "source": []
  },
  {
   "cell_type": "markdown",
   "id": "ec73ada1-1edc-4557-ba32-ae7a07449c36",
   "metadata": {},
   "source": [
    "# ALL OPERATORS\n",
    "1- Arithmetic operator - (+, -, *, /, %, **)\n",
    "\n",
    "2- Relational operator - (>, <, >=, <= , ==, !=)\n",
    "\n",
    "3- Uniary operator - (one operator -)\n",
    "\n",
    "4- Assignment operator - (=, +=, -=, /=, //=, *=) \n",
    "\n",
    "5- Logical operator - (and, or , not)"
   ]
  },
  {
   "cell_type": "markdown",
   "id": "0f43a9b3-6d84-4d7d-92f9-58897f30091a",
   "metadata": {},
   "source": [
    "                                                    1.Arithmatic operator (+, -, *, /, %, **)"
   ]
  },
  {
   "cell_type": "code",
   "execution_count": 9,
   "id": "e3dfa804-166a-42e7-9022-815d69a7412f",
   "metadata": {},
   "outputs": [],
   "source": [
    "a,b = 5,5"
   ]
  },
  {
   "cell_type": "code",
   "execution_count": 10,
   "id": "c514de2b-4358-41c9-8b72-7939fa951904",
   "metadata": {},
   "outputs": [
    {
     "data": {
      "text/plain": [
       "10"
      ]
     },
     "execution_count": 10,
     "metadata": {},
     "output_type": "execute_result"
    }
   ],
   "source": [
    "a+b  #arithmetic operator addition (+)\n"
   ]
  },
  {
   "cell_type": "code",
   "execution_count": 11,
   "id": "b5a81498-4d33-467e-831a-b8b529c785fe",
   "metadata": {},
   "outputs": [
    {
     "data": {
      "text/plain": [
       "0"
      ]
     },
     "execution_count": 11,
     "metadata": {},
     "output_type": "execute_result"
    }
   ],
   "source": [
    "a-b  #arithmatic operator substraction(-)"
   ]
  },
  {
   "cell_type": "code",
   "execution_count": 12,
   "id": "60b8cf37-d798-4bb2-825d-853a6329713d",
   "metadata": {},
   "outputs": [
    {
     "data": {
      "text/plain": [
       "25"
      ]
     },
     "execution_count": 12,
     "metadata": {},
     "output_type": "execute_result"
    }
   ],
   "source": [
    "a*b  #arithmatic operator multiplication(*)"
   ]
  },
  {
   "cell_type": "code",
   "execution_count": 13,
   "id": "c2068d07-b17e-4b8f-8ffb-fee546b542d4",
   "metadata": {},
   "outputs": [
    {
     "data": {
      "text/plain": [
       "1.0"
      ]
     },
     "execution_count": 13,
     "metadata": {},
     "output_type": "execute_result"
    }
   ],
   "source": [
    "a/b  #arithmatic operator division(/) float"
   ]
  },
  {
   "cell_type": "code",
   "execution_count": 14,
   "id": "987c841f-06cc-45d3-ad7b-26986e0bdb1c",
   "metadata": {},
   "outputs": [
    {
     "data": {
      "text/plain": [
       "1"
      ]
     },
     "execution_count": 14,
     "metadata": {},
     "output_type": "execute_result"
    }
   ],
   "source": [
    "a//b  #arithmatic operator division(//) int"
   ]
  },
  {
   "cell_type": "code",
   "execution_count": 15,
   "id": "7bd8d5c5-aa91-48cb-af24-0322048b3fe4",
   "metadata": {},
   "outputs": [
    {
     "data": {
      "text/plain": [
       "0"
      ]
     },
     "execution_count": 15,
     "metadata": {},
     "output_type": "execute_result"
    }
   ],
   "source": [
    "a%b  #arithmatic operator percentage(%)"
   ]
  },
  {
   "cell_type": "code",
   "execution_count": 16,
   "id": "d56395e0-f70c-483c-9ddd-4ee150a80191",
   "metadata": {},
   "outputs": [
    {
     "data": {
      "text/plain": [
       "3125"
      ]
     },
     "execution_count": 16,
     "metadata": {},
     "output_type": "execute_result"
    }
   ],
   "source": [
    "a**b"
   ]
  },
  {
   "cell_type": "markdown",
   "id": "e0eb4a5e-09bd-4c0f-b4a1-349765721c3c",
   "metadata": {},
   "source": [
    "                                                    2.Relational operator (>, <, >=, <= , ==, !=)"
   ]
  },
  {
   "cell_type": "code",
   "execution_count": 18,
   "id": "f14d764f-6857-4d8c-b10e-13050b395182",
   "metadata": {},
   "outputs": [],
   "source": [
    "a1 = 10\n",
    "a2 = 15"
   ]
  },
  {
   "cell_type": "code",
   "execution_count": 19,
   "id": "cef1d3b5-cb9c-4b0b-9f2d-ae2ded565b92",
   "metadata": {},
   "outputs": [
    {
     "data": {
      "text/plain": [
       "False"
      ]
     },
     "execution_count": 19,
     "metadata": {},
     "output_type": "execute_result"
    }
   ],
   "source": [
    "a1>a2  #Relational operator greaterthan(>)"
   ]
  },
  {
   "cell_type": "code",
   "execution_count": 20,
   "id": "96d1c7a1-6685-4306-bcac-370776fba441",
   "metadata": {},
   "outputs": [
    {
     "data": {
      "text/plain": [
       "True"
      ]
     },
     "execution_count": 20,
     "metadata": {},
     "output_type": "execute_result"
    }
   ],
   "source": [
    "a1<a2  #Relational operator lessthan(<)"
   ]
  },
  {
   "cell_type": "code",
   "execution_count": 21,
   "id": "350e8b32-5bee-476b-812a-3e6d9ca8cf33",
   "metadata": {},
   "outputs": [
    {
     "data": {
      "text/plain": [
       "False"
      ]
     },
     "execution_count": 21,
     "metadata": {},
     "output_type": "execute_result"
    }
   ],
   "source": [
    "a1>=a2  #Relational operator greaterthanequalto(>=)"
   ]
  },
  {
   "cell_type": "code",
   "execution_count": 22,
   "id": "fe9e2c94-5bd3-412c-b08e-684c5f82d6f6",
   "metadata": {},
   "outputs": [
    {
     "data": {
      "text/plain": [
       "True"
      ]
     },
     "execution_count": 22,
     "metadata": {},
     "output_type": "execute_result"
    }
   ],
   "source": [
    "a1<=a2  #Relational operator lessthanequalto(<=)"
   ]
  },
  {
   "cell_type": "code",
   "execution_count": 23,
   "id": "f1f2594a-881c-46ff-a2b5-4030c4e738b1",
   "metadata": {},
   "outputs": [
    {
     "data": {
      "text/plain": [
       "False"
      ]
     },
     "execution_count": 23,
     "metadata": {},
     "output_type": "execute_result"
    }
   ],
   "source": [
    "a1==a2  #Relational operator comparision(==)"
   ]
  },
  {
   "cell_type": "code",
   "execution_count": 24,
   "id": "d6c50e5f-7bf8-41c3-91e7-3f3db5d6af84",
   "metadata": {},
   "outputs": [
    {
     "data": {
      "text/plain": [
       "True"
      ]
     },
     "execution_count": 24,
     "metadata": {},
     "output_type": "execute_result"
    }
   ],
   "source": [
    "a1!=a2  #Relational operator notequalto(!=)"
   ]
  },
  {
   "cell_type": "markdown",
   "id": "59e1b740-bd58-42df-9346-9b455066f658",
   "metadata": {},
   "source": [
    "                                                    3.Uniary operator (-) Only one operator"
   ]
  },
  {
   "cell_type": "code",
   "execution_count": 25,
   "id": "d314a8d2-3135-46a6-ae72-66e06be31ba1",
   "metadata": {},
   "outputs": [
    {
     "data": {
      "text/plain": [
       "10"
      ]
     },
     "execution_count": 25,
     "metadata": {},
     "output_type": "execute_result"
    }
   ],
   "source": [
    "a = 10\n",
    "a"
   ]
  },
  {
   "cell_type": "code",
   "execution_count": 28,
   "id": "094cecd6-3311-44a6-a937-2e352020d214",
   "metadata": {},
   "outputs": [
    {
     "data": {
      "text/plain": [
       "-10"
      ]
     },
     "execution_count": 28,
     "metadata": {},
     "output_type": "execute_result"
    }
   ],
   "source": [
    "b = -a  #Uniary operator(-)\n",
    "b"
   ]
  },
  {
   "cell_type": "code",
   "execution_count": 29,
   "id": "6c7ba670-37e8-47dc-8db5-20b78f6a7bb5",
   "metadata": {},
   "outputs": [
    {
     "data": {
      "text/plain": [
       "-10"
      ]
     },
     "execution_count": 29,
     "metadata": {},
     "output_type": "execute_result"
    }
   ],
   "source": [
    "-a"
   ]
  },
  {
   "cell_type": "code",
   "execution_count": 30,
   "id": "b32abd37-6efd-4c98-9f40-4f08d433eb4d",
   "metadata": {},
   "outputs": [
    {
     "data": {
      "text/plain": [
       "10"
      ]
     },
     "execution_count": 30,
     "metadata": {},
     "output_type": "execute_result"
    }
   ],
   "source": [
    "-b  #(-,-, = +)"
   ]
  },
  {
   "cell_type": "markdown",
   "id": "1b160a31-5281-4303-a289-bbcf837cc294",
   "metadata": {},
   "source": [
    "                                                    4.Assignment operator (=, +=, -=, /=, //=, *=)"
   ]
  },
  {
   "cell_type": "code",
   "execution_count": 1,
   "id": "96887559-4dda-49ab-b1cd-8780586b4380",
   "metadata": {},
   "outputs": [
    {
     "data": {
      "text/plain": [
       "10"
      ]
     },
     "execution_count": 1,
     "metadata": {},
     "output_type": "execute_result"
    }
   ],
   "source": [
    "a = 10  #Assignment operator(=) It is used to assign a value to a variable, where a is variable and 10 is value\n",
    "a"
   ]
  },
  {
   "cell_type": "code",
   "execution_count": 2,
   "id": "3ff0fcd1-07e7-4fc3-8d30-b05f16d72bb5",
   "metadata": {},
   "outputs": [
    {
     "data": {
      "text/plain": [
       "12"
      ]
     },
     "execution_count": 2,
     "metadata": {},
     "output_type": "execute_result"
    }
   ],
   "source": [
    "a += 2  #Addition assignment operator(+=) This is equivalent to a = a + 2(value)\n",
    "a"
   ]
  },
  {
   "cell_type": "code",
   "execution_count": 3,
   "id": "e52fe471-6541-461b-bc5f-7230f639c3b3",
   "metadata": {},
   "outputs": [
    {
     "data": {
      "text/plain": [
       "8"
      ]
     },
     "execution_count": 3,
     "metadata": {},
     "output_type": "execute_result"
    }
   ],
   "source": [
    "a -= 4  #subtraction assignment operator(-=) This is equivalent to a = a - 4(value)\n",
    "a"
   ]
  },
  {
   "cell_type": "code",
   "execution_count": 4,
   "id": "34be7f5b-fb5a-4387-9a9f-bda95356e42b",
   "metadata": {},
   "outputs": [
    {
     "data": {
      "text/plain": [
       "4"
      ]
     },
     "execution_count": 4,
     "metadata": {},
     "output_type": "execute_result"
    }
   ],
   "source": [
    "a //= 2  #division assignment operator in int(//=) This is equivalent to a = a / 2(value)\n",
    "a"
   ]
  },
  {
   "cell_type": "code",
   "execution_count": 5,
   "id": "5dba40e4-aff1-4cfb-8c4c-e41dc5f118b2",
   "metadata": {},
   "outputs": [
    {
     "data": {
      "text/plain": [
       "2.0"
      ]
     },
     "execution_count": 5,
     "metadata": {},
     "output_type": "execute_result"
    }
   ],
   "source": [
    "a /= 2  #division assignment operator in int(/=) This is equivalent to a = a / 2(value)\n",
    "a"
   ]
  },
  {
   "cell_type": "code",
   "execution_count": 7,
   "id": "8609a877-fbd8-4f36-b18c-e8ec5ce4346f",
   "metadata": {},
   "outputs": [
    {
     "data": {
      "text/plain": [
       "8.0"
      ]
     },
     "execution_count": 7,
     "metadata": {},
     "output_type": "execute_result"
    }
   ],
   "source": [
    "a *= 2  #multiplication assignment operator(*=) This is equivalent to a = a * 2(value)\n",
    "a"
   ]
  },
  {
   "cell_type": "markdown",
   "id": "80738d3f-f759-44c5-abfb-01e69e4777f5",
   "metadata": {},
   "source": [
    "                                                    5.Logical operator (and, or , not)"
   ]
  },
  {
   "cell_type": "code",
   "execution_count": 8,
   "id": "a8786c34-2e72-4fce-99fa-1336edccfff3",
   "metadata": {},
   "outputs": [],
   "source": [
    "a = 8\n",
    "b = 6"
   ]
  },
  {
   "cell_type": "code",
   "execution_count": 9,
   "id": "e00a808b-39d8-4070-8840-3cceabf78ccb",
   "metadata": {},
   "outputs": [
    {
     "data": {
      "text/plain": [
       "False"
      ]
     },
     "execution_count": 9,
     "metadata": {},
     "output_type": "execute_result"
    }
   ],
   "source": [
    "a<6 and b>8  #Logical operator(and) if both statement are true then result will be true else false"
   ]
  },
  {
   "cell_type": "code",
   "execution_count": 12,
   "id": "18f31c45-e5ed-47ee-bf23-8097c6f4b3f7",
   "metadata": {},
   "outputs": [
    {
     "data": {
      "text/plain": [
       "True"
      ]
     },
     "execution_count": 12,
     "metadata": {},
     "output_type": "execute_result"
    }
   ],
   "source": [
    "a<10 and b>2  #both of the statement are true then result will be true"
   ]
  },
  {
   "cell_type": "code",
   "execution_count": 13,
   "id": "8dbb8526-6bda-4bf0-904e-e20c6c871dbe",
   "metadata": {},
   "outputs": [],
   "source": [
    "a = 15\n",
    "b = 12"
   ]
  },
  {
   "cell_type": "code",
   "execution_count": 14,
   "id": "e88cdf8a-d58f-47f0-9e20-fa43ac2105e4",
   "metadata": {},
   "outputs": [
    {
     "data": {
      "text/plain": [
       "True"
      ]
     },
     "execution_count": 14,
     "metadata": {},
     "output_type": "execute_result"
    }
   ],
   "source": [
    "a<20 or b>10  #Logical operator(or) if any one of the statement is true result will be true"
   ]
  },
  {
   "cell_type": "code",
   "execution_count": 15,
   "id": "50e814a2-d351-497b-8d45-5562b2eb847c",
   "metadata": {},
   "outputs": [
    {
     "data": {
      "text/plain": [
       "False"
      ]
     },
     "execution_count": 15,
     "metadata": {},
     "output_type": "execute_result"
    }
   ],
   "source": [
    "a<12 or b>15  #both of the statement are false then result will be false"
   ]
  },
  {
   "cell_type": "code",
   "execution_count": 17,
   "id": "bba1060f-7ca4-4fed-aef1-3c13c4706f88",
   "metadata": {},
   "outputs": [],
   "source": [
    "a = True"
   ]
  },
  {
   "cell_type": "code",
   "execution_count": 18,
   "id": "2f9a3dc0-1f25-4c1f-80c8-d406480131b2",
   "metadata": {},
   "outputs": [
    {
     "data": {
      "text/plain": [
       "False"
      ]
     },
     "execution_count": 18,
     "metadata": {},
     "output_type": "execute_result"
    }
   ],
   "source": [
    "not a  #Logical operator(not) Inverts the truth value of the condition"
   ]
  },
  {
   "cell_type": "code",
   "execution_count": 19,
   "id": "187c4a63-7c41-48ee-bcc9-c64042cfdca2",
   "metadata": {},
   "outputs": [],
   "source": [
    "a = False"
   ]
  },
  {
   "cell_type": "code",
   "execution_count": 20,
   "id": "9d39eac8-5f98-42fd-b8b4-00ef74bb6fd0",
   "metadata": {},
   "outputs": [
    {
     "data": {
      "text/plain": [
       "True"
      ]
     },
     "execution_count": 20,
     "metadata": {},
     "output_type": "execute_result"
    }
   ],
   "source": [
    "not a"
   ]
  }
 ],
 "metadata": {
  "kernelspec": {
   "display_name": "Python 3 (ipykernel)",
   "language": "python",
   "name": "python3"
  },
  "language_info": {
   "codemirror_mode": {
    "name": "ipython",
    "version": 3
   },
   "file_extension": ".py",
   "mimetype": "text/x-python",
   "name": "python",
   "nbconvert_exporter": "python",
   "pygments_lexer": "ipython3",
   "version": "3.12.7"
  }
 },
 "nbformat": 4,
 "nbformat_minor": 5
}

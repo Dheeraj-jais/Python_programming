{
 "cells": [
  {
   "cell_type": "markdown",
   "id": "369c1257-e839-4504-8a86-49e27597dc90",
   "metadata": {},
   "source": [
    "# All functions of list\n",
    "append(),\n",
    "clear(),\n",
    "copy(),\n",
    "count(),\n",
    "extend(),\n",
    "index(),\n",
    "insert(),\n",
    "pop(),\n",
    "remove(),\n",
    "reverse(),\n",
    "sort()\n"
   ]
  },
  {
   "cell_type": "code",
   "execution_count": 1,
   "id": "3762007b-bfe4-4a9a-9f40-17e4454d5000",
   "metadata": {},
   "outputs": [],
   "source": [
    "alex=[]   #creating list\n",
    "bob=[] "
   ]
  },
  {
   "cell_type": "code",
   "execution_count": 2,
   "id": "f0c14698-7a14-440c-b00d-d09fac836512",
   "metadata": {},
   "outputs": [
    {
     "data": {
      "text/plain": [
       "[]"
      ]
     },
     "execution_count": 2,
     "metadata": {},
     "output_type": "execute_result"
    }
   ],
   "source": [
    "alex\n",
    "bob"
   ]
  },
  {
   "cell_type": "code",
   "execution_count": 3,
   "id": "dc96d977-8a66-4827-b717-e6b1e8878a27",
   "metadata": {},
   "outputs": [],
   "source": [
    "alex=[1,2,3,4]       #adding elements in list\n",
    "bob=['w','x','y','z']"
   ]
  },
  {
   "cell_type": "code",
   "execution_count": 4,
   "id": "58d3ea01-ecae-4084-a286-fd351271158f",
   "metadata": {},
   "outputs": [
    {
     "data": {
      "text/plain": [
       "[1, 2, 3, 4]"
      ]
     },
     "execution_count": 4,
     "metadata": {},
     "output_type": "execute_result"
    }
   ],
   "source": [
    "alex"
   ]
  },
  {
   "cell_type": "code",
   "execution_count": 5,
   "id": "ecb0bebb-6c72-45ce-a1b7-d87182b1ff28",
   "metadata": {},
   "outputs": [
    {
     "data": {
      "text/plain": [
       "['w', 'x', 'y', 'z']"
      ]
     },
     "execution_count": 5,
     "metadata": {},
     "output_type": "execute_result"
    }
   ],
   "source": [
    "bob"
   ]
  },
  {
   "cell_type": "code",
   "execution_count": 6,
   "id": "4ea01fec-f371-493d-b16d-5ee7fca09d48",
   "metadata": {},
   "outputs": [],
   "source": [
    "alex.append(5) #used for adding elements in last\n",
    "bob.append('A')"
   ]
  },
  {
   "cell_type": "code",
   "execution_count": 7,
   "id": "61c4521a-e6da-437a-9c1c-5ab4d75e46e8",
   "metadata": {},
   "outputs": [
    {
     "data": {
      "text/plain": [
       "[1, 2, 3, 4, 5]"
      ]
     },
     "execution_count": 7,
     "metadata": {},
     "output_type": "execute_result"
    }
   ],
   "source": [
    "alex"
   ]
  },
  {
   "cell_type": "code",
   "execution_count": 8,
   "id": "cbac4efa-2922-4efc-b892-a6b61c1e73ff",
   "metadata": {},
   "outputs": [
    {
     "data": {
      "text/plain": [
       "['w', 'x', 'y', 'z', 'A']"
      ]
     },
     "execution_count": 8,
     "metadata": {},
     "output_type": "execute_result"
    }
   ],
   "source": [
    "bob"
   ]
  },
  {
   "cell_type": "code",
   "execution_count": 9,
   "id": "1941ff3b-27ea-4a5c-b14c-8066813ec1a8",
   "metadata": {},
   "outputs": [],
   "source": [
    "alex=bob.copy()  #used for copying list to another list"
   ]
  },
  {
   "cell_type": "code",
   "execution_count": 10,
   "id": "ee1f741a-f50b-4025-96ff-cb7168f0bd65",
   "metadata": {},
   "outputs": [
    {
     "data": {
      "text/plain": [
       "['w', 'x', 'y', 'z', 'A']"
      ]
     },
     "execution_count": 10,
     "metadata": {},
     "output_type": "execute_result"
    }
   ],
   "source": [
    "alex"
   ]
  },
  {
   "cell_type": "code",
   "execution_count": 11,
   "id": "b68eeaf7-7ad1-44c8-a6d2-0ac6c66267f1",
   "metadata": {},
   "outputs": [
    {
     "data": {
      "text/plain": [
       "['w', 'x', 'y', 'z', 'A']"
      ]
     },
     "execution_count": 11,
     "metadata": {},
     "output_type": "execute_result"
    }
   ],
   "source": [
    "bob"
   ]
  },
  {
   "cell_type": "code",
   "execution_count": 12,
   "id": "50a8210e-e7d0-43c2-b9f6-bc543d59c5c6",
   "metadata": {},
   "outputs": [],
   "source": [
    "bob.clear() #used for clearing the all elements"
   ]
  },
  {
   "cell_type": "code",
   "execution_count": 13,
   "id": "7bf27a1f-317c-4cbb-b4cb-260e88286660",
   "metadata": {},
   "outputs": [
    {
     "data": {
      "text/plain": [
       "[]"
      ]
     },
     "execution_count": 13,
     "metadata": {},
     "output_type": "execute_result"
    }
   ],
   "source": [
    "bob"
   ]
  },
  {
   "cell_type": "code",
   "execution_count": 14,
   "id": "8b5c33a4-924c-4b6a-ba5c-35c22b86311e",
   "metadata": {},
   "outputs": [],
   "source": [
    "bob=[1,2,3,4,5,5] #creating list again"
   ]
  },
  {
   "cell_type": "code",
   "execution_count": 15,
   "id": "810aa698-b128-4535-bc8a-785edf857a6a",
   "metadata": {},
   "outputs": [
    {
     "data": {
      "text/plain": [
       "[1, 2, 3, 4, 5, 5]"
      ]
     },
     "execution_count": 15,
     "metadata": {},
     "output_type": "execute_result"
    }
   ],
   "source": [
    "bob"
   ]
  },
  {
   "cell_type": "code",
   "execution_count": 16,
   "id": "1f2b9111-f5e8-4bbd-9ef3-8f2abcbd0d5d",
   "metadata": {},
   "outputs": [
    {
     "data": {
      "text/plain": [
       "2"
      ]
     },
     "execution_count": 16,
     "metadata": {},
     "output_type": "execute_result"
    }
   ],
   "source": [
    "bob.count(5) #used for counts how much time element repeats"
   ]
  },
  {
   "cell_type": "code",
   "execution_count": 17,
   "id": "66d9c41a-6aec-4c31-9c2b-c66740153732",
   "metadata": {},
   "outputs": [],
   "source": [
    "bob.remove(5) #used to remove a single element "
   ]
  },
  {
   "cell_type": "code",
   "execution_count": 18,
   "id": "5ca33125-dd78-4cab-9705-d5784573723e",
   "metadata": {},
   "outputs": [
    {
     "data": {
      "text/plain": [
       "[1, 2, 3, 4, 5]"
      ]
     },
     "execution_count": 18,
     "metadata": {},
     "output_type": "execute_result"
    }
   ],
   "source": [
    "bob"
   ]
  },
  {
   "cell_type": "code",
   "execution_count": 19,
   "id": "1fe39d0c-2060-4256-910e-3a20306d464b",
   "metadata": {},
   "outputs": [
    {
     "data": {
      "text/plain": [
       "5"
      ]
     },
     "execution_count": 19,
     "metadata": {},
     "output_type": "execute_result"
    }
   ],
   "source": [
    "bob.pop() #used for remove elements from the last index (without giving index)"
   ]
  },
  {
   "cell_type": "code",
   "execution_count": 20,
   "id": "21d83f53-e4b4-4710-a52e-04e04ad096e8",
   "metadata": {},
   "outputs": [
    {
     "data": {
      "text/plain": [
       "[1, 2, 3, 4]"
      ]
     },
     "execution_count": 20,
     "metadata": {},
     "output_type": "execute_result"
    }
   ],
   "source": [
    "bob"
   ]
  },
  {
   "cell_type": "code",
   "execution_count": 21,
   "id": "5f3d04d5-a293-449e-b657-44281265a939",
   "metadata": {},
   "outputs": [
    {
     "data": {
      "text/plain": [
       "4"
      ]
     },
     "execution_count": 21,
     "metadata": {},
     "output_type": "execute_result"
    }
   ],
   "source": [
    "bob.pop(3) #used for remove elements (with index)"
   ]
  },
  {
   "cell_type": "code",
   "execution_count": 22,
   "id": "faee02d3-1913-4db7-a3e4-6cffb9fa969c",
   "metadata": {},
   "outputs": [
    {
     "data": {
      "text/plain": [
       "[1, 2, 3]"
      ]
     },
     "execution_count": 22,
     "metadata": {},
     "output_type": "execute_result"
    }
   ],
   "source": [
    "bob"
   ]
  },
  {
   "cell_type": "code",
   "execution_count": 23,
   "id": "8d241298-d384-4473-be0e-828625e184e0",
   "metadata": {},
   "outputs": [
    {
     "data": {
      "text/plain": [
       "['w', 'x', 'y', 'z', 'A']"
      ]
     },
     "execution_count": 23,
     "metadata": {},
     "output_type": "execute_result"
    }
   ],
   "source": [
    "alex"
   ]
  },
  {
   "cell_type": "code",
   "execution_count": 24,
   "id": "f579500e-ff46-4068-a224-3e0a7df44bd3",
   "metadata": {},
   "outputs": [],
   "source": [
    "alex.reverse()  # used for Reverses the order of the list"
   ]
  },
  {
   "cell_type": "code",
   "execution_count": 25,
   "id": "74c9e34c-9670-4612-b0fc-2956ec130ae6",
   "metadata": {},
   "outputs": [
    {
     "data": {
      "text/plain": [
       "['A', 'z', 'y', 'x', 'w']"
      ]
     },
     "execution_count": 25,
     "metadata": {},
     "output_type": "execute_result"
    }
   ],
   "source": [
    "alex"
   ]
  },
  {
   "cell_type": "code",
   "execution_count": 26,
   "id": "015c269a-dbaa-4606-b4e3-414779d3e868",
   "metadata": {},
   "outputs": [],
   "source": [
    "alex.sort()  #used for Sorts the list to assending order"
   ]
  },
  {
   "cell_type": "code",
   "execution_count": 27,
   "id": "370b3f02-06a7-4cb1-855e-4f0a41aefef7",
   "metadata": {},
   "outputs": [
    {
     "data": {
      "text/plain": [
       "['A', 'w', 'x', 'y', 'z']"
      ]
     },
     "execution_count": 27,
     "metadata": {},
     "output_type": "execute_result"
    }
   ],
   "source": [
    "alex"
   ]
  },
  {
   "cell_type": "code",
   "execution_count": 28,
   "id": "4a7a5b64-b11b-4ceb-8373-969441e44b89",
   "metadata": {},
   "outputs": [],
   "source": [
    "alex.insert(1,'b') #used for Adds an element at the specified position in index way"
   ]
  },
  {
   "cell_type": "code",
   "execution_count": 29,
   "id": "a9d2ed88-fc1e-4d25-9088-90990fbf583a",
   "metadata": {},
   "outputs": [
    {
     "data": {
      "text/plain": [
       "['A', 'b', 'w', 'x', 'y', 'z']"
      ]
     },
     "execution_count": 29,
     "metadata": {},
     "output_type": "execute_result"
    }
   ],
   "source": [
    "alex"
   ]
  },
  {
   "cell_type": "code",
   "execution_count": 30,
   "id": "024ce305-f9fb-4a14-acbc-4ca3b499bc6a",
   "metadata": {},
   "outputs": [
    {
     "data": {
      "text/plain": [
       "3"
      ]
     },
     "execution_count": 30,
     "metadata": {},
     "output_type": "execute_result"
    }
   ],
   "source": [
    "alex.index('x') #used for know the index of the element"
   ]
  },
  {
   "cell_type": "code",
   "execution_count": 31,
   "id": "8fcd6b6e-c88d-4c72-be45-554c3949404c",
   "metadata": {},
   "outputs": [
    {
     "data": {
      "text/plain": [
       "['A', 'b', 'w', 'x', 'y', 'z']"
      ]
     },
     "execution_count": 31,
     "metadata": {},
     "output_type": "execute_result"
    }
   ],
   "source": [
    "alex"
   ]
  },
  {
   "cell_type": "code",
   "execution_count": 32,
   "id": "869633f5-3f6f-4b48-94ca-4000ccd33823",
   "metadata": {},
   "outputs": [
    {
     "data": {
      "text/plain": [
       "[1, 2, 3]"
      ]
     },
     "execution_count": 32,
     "metadata": {},
     "output_type": "execute_result"
    }
   ],
   "source": [
    "bob"
   ]
  },
  {
   "cell_type": "code",
   "execution_count": 33,
   "id": "4c640c82-9c48-40e1-adc2-43ca4fc375c2",
   "metadata": {},
   "outputs": [],
   "source": [
    "alex.extend(bob) #used for Add the elements of a list to the end of the current list"
   ]
  },
  {
   "cell_type": "code",
   "execution_count": 34,
   "id": "fab0246b-ed49-41b6-828a-7ab34cc4e561",
   "metadata": {},
   "outputs": [
    {
     "data": {
      "text/plain": [
       "['A', 'b', 'w', 'x', 'y', 'z', 1, 2, 3]"
      ]
     },
     "execution_count": 34,
     "metadata": {},
     "output_type": "execute_result"
    }
   ],
   "source": [
    "alex"
   ]
  },
  {
   "cell_type": "code",
   "execution_count": null,
   "id": "0bc84c21-3516-4593-8463-e7ab59cd4a94",
   "metadata": {},
   "outputs": [],
   "source": []
  }
 ],
 "metadata": {
  "kernelspec": {
   "display_name": "Python 3 (ipykernel)",
   "language": "python",
   "name": "python3"
  },
  "language_info": {
   "codemirror_mode": {
    "name": "ipython",
    "version": 3
   },
   "file_extension": ".py",
   "mimetype": "text/x-python",
   "name": "python",
   "nbconvert_exporter": "python",
   "pygments_lexer": "ipython3",
   "version": "3.12.7"
  }
 },
 "nbformat": 4,
 "nbformat_minor": 5
}
